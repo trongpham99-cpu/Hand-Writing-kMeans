{
 "cells": [
  {
   "cell_type": "markdown",
   "metadata": {},
   "source": [
    "pip install scikit-optimize"
   ]
  },
  {
   "cell_type": "code",
   "execution_count": null,
   "metadata": {},
   "outputs": [],
   "source": [
    "import numpy as np\n",
    "import pandas as pd\n",
    "import sklearn.model_selection as ms\n",
    "import matplotlib.pyplot as plt\n",
    "from os import listdir\n",
    "from sklearn.cluster import KMeans\n",
    "from PIL import Image\n",
    "from numpy import asarray"
   ]
  },
  {
   "cell_type": "code",
   "execution_count": null,
   "metadata": {},
   "outputs": [],
   "source": [
    "image = Image.open('/Users/trongpham/Desktop/Image digits/Trainset/0/image4.jpg')\n",
    "\n",
    "def ReadImage(path):\n",
    "    data = np.array(asarray(path))\n",
    "    data_flat = data.flatten()\n",
    "    return data_flat"
   ]
  },
  {
   "cell_type": "markdown",
   "metadata": {},
   "source": [
    "# Get train data"
   ]
  },
  {
   "cell_type": "code",
   "execution_count": null,
   "metadata": {},
   "outputs": [],
   "source": [
    "\n",
    "# image = Image.open('/Users/trongpham/Desktop/Image digits/Trainset/0/image4.jpg')\n",
    "images = []\n",
    "K = range(0, 10)\n",
    "for k in K:\n",
    "    for index, fileName in enumerate(listdir('/Users/trongpham/Desktop/Image digits/Trainset/' + str(k))):\n",
    "        filePath = '/Users/trongpham/Desktop/Image digits/Trainset/'+ str(k) + '/' + fileName\n",
    "        img = ReadImage(Image.open(filePath))\n",
    "        images.append(img)"
   ]
  },
  {
   "cell_type": "code",
   "execution_count": null,
   "metadata": {},
   "outputs": [],
   "source": [
    "k_means = KMeans(n_clusters=10, random_state = 100)\n",
    "k_means.fit(images)\n",
    "pred_label = k_means.predict(images)"
   ]
  }
 ],
 "metadata": {
  "interpreter": {
   "hash": "7b83eca86422fa8d834f3af5009fe5ca627fd4d3ae8aae8cf5deb28e4f1bf108"
  },
  "kernelspec": {
   "display_name": "Python 3",
   "language": "python",
   "name": "python3"
  },
  "language_info": {
   "codemirror_mode": {
    "name": "ipython",
    "version": 3
   },
   "file_extension": ".py",
   "mimetype": "text/x-python",
   "name": "python",
   "nbconvert_exporter": "python",
   "pygments_lexer": "ipython3",
   "version": "3.8.8"
  }
 },
 "nbformat": 4,
 "nbformat_minor": 2
}
