{
 "cells": [
  {
   "cell_type": "code",
   "execution_count": 304,
   "metadata": {},
   "outputs": [],
   "source": [
    "import numpy as np\n",
    "import pandas as pd\n",
    "import sklearn.model_selection as ms\n",
    "import matplotlib.pyplot as plt\n",
    "from os import listdir\n",
    "from sklearn.cluster import KMeans\n",
    "from PIL import Image\n",
    "from numpy import asarray\n",
    "from sklearn.manifold import TSNE\n",
    "import random"
   ]
  },
  {
   "cell_type": "code",
   "execution_count": 43,
   "metadata": {},
   "outputs": [],
   "source": [
    "def ReadImage(image):\n",
    "    new_image = image.resize((10, 25))\n",
    "    data = np.array(asarray(new_image))\n",
    "    data_flat = data.flatten()\n",
    "    return data_flat"
   ]
  },
  {
   "cell_type": "code",
   "execution_count": 95,
   "metadata": {},
   "outputs": [],
   "source": [
    "image = Image.open('Image digits/Trainset/0/image4.jpg')\n",
    "image_test = ReadImage(image)"
   ]
  },
  {
   "cell_type": "code",
   "execution_count": 144,
   "metadata": {},
   "outputs": [
    {
     "name": "stdout",
     "output_type": "stream",
     "text": [
      "750\n"
     ]
    }
   ],
   "source": [
    "print(image_test.size)"
   ]
  },
  {
   "cell_type": "code",
   "execution_count": 209,
   "metadata": {
    "scrolled": true
   },
   "outputs": [
    {
     "data": {
      "text/plain": [
       "<matplotlib.image.AxesImage at 0x7fecae7a4e80>"
      ]
     },
     "execution_count": 209,
     "metadata": {},
     "output_type": "execute_result"
    },
    {
     "data": {
      "image/png": "[encoded data removed]",
      "text/plain": [
       "<Figure size 72x72 with 1 Axes>"
      ]
     },
     "metadata": {
      "needs_background": "light"
     },
     "output_type": "display_data"
    }
   ],
   "source": [
    "img= Image.open(\"Image digits/Trainset/0/image4.jpg\")\n",
    "new_image = img.resize((10, 25))\n",
    "np_img = numpy.array(new_image)\n",
    "img = Image.fromarray(np_img, 'RGB')\n",
    "plt.figure(figsize = (1,1))\n",
    "plt.imshow(img)"
   ]
  },
  {
   "cell_type": "code",
   "execution_count": 47,
   "metadata": {},
   "outputs": [],
   "source": [
    "def ReadFolder():\n",
    "    images = []\n",
    "    K = range(0, 10)\n",
    "    for k in K:\n",
    "        for index, fileName in enumerate(listdir('Image digits/Trainset/' + str(k))):\n",
    "            filePath = 'Image digits/Trainset/'+ str(k) + '/' + fileName\n",
    "            img = ReadImage(Image.open(filePath))\n",
    "            images.append(img)\n",
    "    images_np = np.array(images)\n",
    "    return images_np"
   ]
  },
  {
   "cell_type": "code",
   "execution_count": 48,
   "metadata": {},
   "outputs": [],
   "source": [
    "actress_np = ReadFolder()"
   ]
  },
  {
   "cell_type": "code",
   "execution_count": 85,
   "metadata": {},
   "outputs": [],
   "source": [
    "k_means = KMeans(n_clusters=10, random_state = 100)\n",
    "k_means.fit(actress_np)\n",
    "pred_label = k_means.predict(actress_np)"
   ]
  },
  {
   "cell_type": "code",
   "execution_count": 87,
   "metadata": {},
   "outputs": [
    {
     "name": "stdout",
     "output_type": "stream",
     "text": [
      "<class 'numpy.ndarray'>\n",
      "(10, 750)\n",
      "[4 4 4 ... 0 0 0]\n"
     ]
    }
   ],
   "source": [
    "# print(k_means.cluster_centers_.shape)\n",
    "# print(actress_np)\n",
    "print(type(k_means.cluster_centers_.T))\n",
    "print(k_means.cluster_centers_.shape)\n",
    "print(pred_label)"
   ]
  },
  {
   "cell_type": "markdown",
   "metadata": {},
   "source": [
    "### Mỗi cluster lấy ra 1 giá trị ngẫu nhiên"
   ]
  },
  {
   "cell_type": "code",
   "execution_count": 315,
   "metadata": {
    "scrolled": false
   },
   "outputs": [],
   "source": [
    "def getDataCluster(cluster):\n",
    "    x = random.randint(0,50)\n",
    "    A = actress_np[k_means.labels_== cluster][x]\n",
    "    return A"
   ]
  },
  {
   "cell_type": "code",
   "execution_count": 316,
   "metadata": {},
   "outputs": [],
   "source": [
    "cluster_5 = getDataClusters(9)"
   ]
  },
  {
   "cell_type": "code",
   "execution_count": 317,
   "metadata": {
    "scrolled": false
   },
   "outputs": [],
   "source": [
    "# convert 1d array to 2d\n",
    "imageFile = []\n",
    "arr1 = cluster_5.reshape(25, 30)\n",
    "K = range(0, 25)\n",
    "for k in K:\n",
    "    newArr = arr1[k].reshape(10, 3)\n",
    "    imageFile.append(newArr)"
   ]
  },
  {
   "cell_type": "code",
   "execution_count": 318,
   "metadata": {
    "scrolled": true
   },
   "outputs": [
    {
     "data": {
      "text/plain": [
       "<matplotlib.image.AxesImage at 0x7fecadec0a60>"
      ]
     },
     "execution_count": 318,
     "metadata": {},
     "output_type": "execute_result"
    },
    {
     "data": {
      "image/png": "[encoded data removed]",
      "text/plain": [
       "<Figure size 72x72 with 1 Axes>"
      ]
     },
     "metadata": {
      "needs_background": "light"
     },
     "output_type": "display_data"
    }
   ],
   "source": [
    "newImg = np.array(imageFile)\n",
    "img = Image.fromarray(newImg, 'RGB')\n",
    "plt.figure(figsize = (1,1))\n",
    "plt.imshow(img)"
   ]
  },
  {
   "cell_type": "code",
   "execution_count": 320,
   "metadata": {},
   "outputs": [],
   "source": [
    "K = range(0, 10)\n",
    "for k in K:\n",
    "    getDataCluster(k)\n",
    "    "
   ]
  },
  {
   "cell_type": "code",
   "execution_count": null,
   "metadata": {},
   "outputs": [],
   "source": []
  }
 ],
 "metadata": {
  "interpreter": {
   "hash": "7b83eca86422fa8d834f3af5009fe5ca627fd4d3ae8aae8cf5deb28e4f1bf108"
  },
  "kernelspec": {
   "display_name": "Python 3",
   "language": "python",
   "name": "python3"
  },
  "language_info": {
   "codemirror_mode": {
    "name": "ipython",
    "version": 3
   },
   "file_extension": ".py",
   "mimetype": "text/x-python",
   "name": "python",
   "nbconvert_exporter": "python",
   "pygments_lexer": "ipython3",
   "version": "3.8.8"
  }
 },
 "nbformat": 4,
 "nbformat_minor": 2
}
