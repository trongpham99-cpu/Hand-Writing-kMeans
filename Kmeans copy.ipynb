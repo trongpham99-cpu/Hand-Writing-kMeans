{
 "cells": [
  {
   "cell_type": "code",
   "execution_count": 1,
   "metadata": {},
   "outputs": [],
   "source": [
    "import numpy as np\n",
    "import pandas as pd\n",
    "import sklearn.model_selection as ms\n",
    "import matplotlib.pyplot as plt\n",
    "from os import listdir\n",
    "from sklearn.cluster import KMeans\n",
    "from PIL import Image\n",
    "from numpy import asarray\n",
    "from sklearn.manifold import TSNE\n",
    "import random"
   ]
  },
  {
   "cell_type": "markdown",
   "metadata": {},
   "source": [
    "### Đọc hình ảnh"
   ]
  },
  {
   "cell_type": "code",
   "execution_count": 2,
   "metadata": {},
   "outputs": [],
   "source": [
    "def ReadImage(image):\n",
    "    new_image = image.resize((10, 25))\n",
    "    data = np.array(asarray(new_image))\n",
    "    data_flat = data.flatten()\n",
    "    return data_flat"
   ]
  },
  {
   "cell_type": "markdown",
   "metadata": {},
   "source": [
    "### Mở hình ảnh"
   ]
  },
  {
   "cell_type": "code",
   "execution_count": 3,
   "metadata": {
    "scrolled": true
   },
   "outputs": [
    {
     "data": {
      "text/plain": [
       "<matplotlib.image.AxesImage at 0x21f848914c0>"
      ]
     },
     "execution_count": 3,
     "metadata": {},
     "output_type": "execute_result"
    },
    {
     "data": {
      "image/png": "[encoded data removed]",
      "text/plain": [
       "<Figure size 72x72 with 1 Axes>"
      ]
     },
     "metadata": {
      "needs_background": "light"
     },
     "output_type": "display_data"
    }
   ],
   "source": [
    "img= Image.open(\"Image digits/Trainset/0/image4.jpg\")\n",
    "new_image = img.resize((10, 25))\n",
    "np_img = np.array(new_image)\n",
    "img = Image.fromarray(np_img, 'RGB')\n",
    "plt.figure(figsize = (1,1))\n",
    "plt.imshow(img)"
   ]
  },
  {
   "cell_type": "markdown",
   "metadata": {},
   "source": [
    "### Lấy DataTrain"
   ]
  },
  {
   "cell_type": "code",
   "execution_count": 4,
   "metadata": {},
   "outputs": [],
   "source": [
    "def ReadFolder():\n",
    "    images = []\n",
    "    K = range(0, 10)\n",
    "    for k in K:\n",
    "        for index, fileName in enumerate(listdir('Image digits/Trainset/' + str(k))):\n",
    "            filePath = 'Image digits/Trainset/'+ str(k) + '/' + fileName\n",
    "            img = ReadImage(Image.open(filePath))\n",
    "            images.append(img)\n",
    "    images_np = np.array(images)\n",
    "    return images_np"
   ]
  },
  {
   "cell_type": "code",
   "execution_count": 5,
   "metadata": {},
   "outputs": [],
   "source": [
    "actress_np = ReadFolder()"
   ]
  },
  {
   "cell_type": "code",
   "execution_count": 11,
   "metadata": {},
   "outputs": [
    {
     "data": {
      "text/plain": [
       "array([[32,  0,  0, ...,  7,  0,  0],\n",
       "       [ 3,  0,  3, ...,  0, 10, 13],\n",
       "       [ 6,  0,  0, ...,  0,  5, 11],\n",
       "       ...,\n",
       "       [19,  0,  6, ..., 29,  0,  0],\n",
       "       [ 0, 22, 28, ...,  0,  4,  0],\n",
       "       [ 1,  9,  7, ..., 72,  1,  1]], dtype=uint8)"
      ]
     },
     "execution_count": 11,
     "metadata": {},
     "output_type": "execute_result"
    }
   ],
   "source": [
    "actress_np"
   ]
  },
  {
   "cell_type": "markdown",
   "metadata": {},
   "source": [
    "### Phân cụm và train"
   ]
  },
  {
   "cell_type": "code",
   "execution_count": 12,
   "metadata": {},
   "outputs": [],
   "source": [
    "k_means = KMeans(n_clusters=10, random_state = 100)\n",
    "k_means.fit(actress_np)\n",
    "pred_label = k_means.predict(actress_np)"
   ]
  },
  {
   "cell_type": "code",
   "execution_count": 13,
   "metadata": {},
   "outputs": [
    {
     "name": "stdout",
     "output_type": "stream",
     "text": [
      "<class 'numpy.ndarray'>\n",
      "(10, 750)\n",
      "[5 5 5 ... 9 9 9]\n"
     ]
    }
   ],
   "source": [
    "# print(k_means.cluster_centers_.shape)\n",
    "# print(actress_np)\n",
    "print(type(k_means.cluster_centers_.T))\n",
    "print(k_means.cluster_centers_.shape)\n",
    "print(pred_label)"
   ]
  },
  {
   "cell_type": "markdown",
   "metadata": {},
   "source": [
    "### Lấy tất cả phần tử từ Clsuster"
   ]
  },
  {
   "cell_type": "code",
   "execution_count": 18,
   "metadata": {},
   "outputs": [],
   "source": [
    "def getAllDataInCluster(cluster):\n",
    "    B = actress_np[k_means.labels_== cluster]\n",
    "    for i in range(0, B.shape[0]):\n",
    "        cluster = B[i]\n",
    "        imageFile = []\n",
    "        arr1 = cluster.reshape(25, 30)\n",
    "        K = range(0, 25)\n",
    "        for k in K:\n",
    "            newArr = arr1[k].reshape(10, 3)\n",
    "            imageFile.append(newArr)\n",
    "        newImg = np.array(imageFile)\n",
    "        img = Image.fromarray(newImg, 'RGB')\n",
    "    #     plt.figure(figsize = (1,1))\n",
    "    #     plt.imshow(img)\n",
    "        img.save('test/'+ str(i) + '.png')\n",
    "getAllDataInCluster(7)\n"
   ]
  },
  {
   "cell_type": "markdown",
   "metadata": {},
   "source": [
    "### Mỗi cluster lấy ra 1 giá trị ngẫu nhiên"
   ]
  },
  {
   "cell_type": "code",
   "execution_count": 49,
   "metadata": {
    "scrolled": false
   },
   "outputs": [],
   "source": [
    "def getDataCluster(cluster):\n",
    "    x = random.randint(0,70)\n",
    "    A = actress_np[k_means.labels_== cluster][x]\n",
    "    return A"
   ]
  },
  {
   "cell_type": "code",
   "execution_count": 36,
   "metadata": {},
   "outputs": [],
   "source": [
    "cluster_5 = getDataCluster(9)"
   ]
  },
  {
   "cell_type": "code",
   "execution_count": 37,
   "metadata": {
    "scrolled": false
   },
   "outputs": [],
   "source": [
    "# convert 1d array to 2d\n",
    "imageFile = []\n",
    "arr1 = cluster_5.reshape(25, 30)\n",
    "K = range(0, 25)\n",
    "for k in K:\n",
    "    newArr = arr1[k].reshape(10, 3)\n",
    "    imageFile.append(newArr)"
   ]
  },
  {
   "cell_type": "code",
   "execution_count": 38,
   "metadata": {
    "scrolled": true
   },
   "outputs": [
    {
     "data": {
      "text/plain": [
       "<matplotlib.image.AxesImage at 0x22c86d8fca0>"
      ]
     },
     "execution_count": 38,
     "metadata": {},
     "output_type": "execute_result"
    },
    {
     "data": {
      "image/png": "[encoded data removed]",
      "text/plain": [
       "<Figure size 72x72 with 1 Axes>"
      ]
     },
     "metadata": {
      "needs_background": "light"
     },
     "output_type": "display_data"
    }
   ],
   "source": [
    "newImg = np.array(imageFile)\n",
    "img = Image.fromarray(newImg, 'RGB')\n",
    "plt.figure(figsize = (1,1))\n",
    "plt.imshow(img)"
   ]
  },
  {
   "cell_type": "code",
   "execution_count": 50,
   "metadata": {},
   "outputs": [],
   "source": [
    "def getDataMultiCluster():\n",
    "    Index = range(0, 10)\n",
    "    for idx in Index:\n",
    "        cluster = getDataCluster(idx)\n",
    "        imageFile = []\n",
    "        arr1 = cluster.reshape(25, 30)\n",
    "        K = range(0, 25)\n",
    "        for k in K:\n",
    "            newArr = arr1[k].reshape(10, 3)\n",
    "            imageFile.append(newArr)\n",
    "        # newImg = np.array(imageFile)\n",
    "        # img = Image.fromarray(newImg, 'RGB')\n",
    "        # plt.figure(figsize = (1,1))\n",
    "        # plt.imshow(img)\n",
    "        saveImageMultiCluster(imageFile, idx)\n",
    "getDataMultiCluster()"
   ]
  },
  {
   "cell_type": "code",
   "execution_count": 40,
   "metadata": {},
   "outputs": [],
   "source": [
    "def saveImage(imageFile, idx):\n",
    "    newImg = np.array(imageFile)\n",
    "    img = Image.fromarray(newImg, 'RGB')\n",
    "#     plt.figure(figsize = (1,1))\n",
    "#     plt.imshow(img)\n",
    "    img.save('cluster/'+ str(idx) + '.png')"
   ]
  },
  {
   "cell_type": "code",
   "execution_count": 41,
   "metadata": {},
   "outputs": [],
   "source": [
    "def saveImageMultiCluster(imageFile, idx):\n",
    "    newImg = np.array(imageFile)\n",
    "    img = Image.fromarray(newImg, 'RGB')\n",
    "    img.save('multicluster/'+ str(idx) + '.png')"
   ]
  },
  {
   "cell_type": "markdown",
   "metadata": {},
   "source": [
    "### Lấy 20 giá trị từ cluster"
   ]
  },
  {
   "cell_type": "code",
   "execution_count": 42,
   "metadata": {},
   "outputs": [],
   "source": [
    "def getAllDataInCluster(cluster):\n",
    "    A = actress_np[k_means.labels_== cluster]\n",
    "    Index = range(0, 20)\n",
    "    for idx in Index:\n",
    "        cluster = A[idx]\n",
    "        imageFile = []\n",
    "        arr1 = cluster.reshape(25, 30)\n",
    "        K = range(0, 25)\n",
    "        for k in K:\n",
    "            newArr = arr1[k].reshape(10, 3)\n",
    "            imageFile.append(newArr)\n",
    "        saveImage(imageFile, idx)\n",
    "#         newImg = np.array(imageFile)\n",
    "#         img = Image.fromarray(newImg, 'RGB')\n",
    "#         plt.figure(figsize = (1,1))\n",
    "#         plt.imshow(img)\n",
    "#         img.save('2/my1.png')\n",
    "    return"
   ]
  },
  {
   "cell_type": "code",
   "execution_count": 43,
   "metadata": {},
   "outputs": [],
   "source": [
    "getAllDataInCluster(5)"
   ]
  },
  {
   "cell_type": "code",
   "execution_count": 44,
   "metadata": {},
   "outputs": [],
   "source": [
    "# from PIL import Image\n",
    "# def ReadCluster():\n",
    "#     list_im = [\n",
    "#         '/Users/trongpham/Desktop/ML/Image digits/Trainset/0/image4.jpg', \n",
    "#         '/Users/trongpham/Desktop/ML/Image digits/Trainset/1/image1.jpg', \n",
    "#         '/Users/trongpham/Desktop/ML/Image digits/Trainset/2/image13.jpg'\n",
    "#     ]\n",
    "#     imgs    = [ PIL.Image.open(i) for i in list_im ]\n",
    "#     # pick the image which is the smallest, and resize the others to match it (can be arbitrary image shape here)\n",
    "#     min_shape = sorted( [(np.sum(i.size), i.size ) for i in imgs])[0][1]\n",
    "#     imgs_comb = np.hstack( (np.asarray( i.resize(min_shape) ) for i in imgs ) )\n",
    "\n",
    "#     # save that beautiful picture\n",
    "#     imgs_comb = PIL.Image.fromarray( imgs_comb)\n",
    "#     imgs_comb.show()"
   ]
  },
  {
   "cell_type": "code",
   "execution_count": 45,
   "metadata": {},
   "outputs": [],
   "source": [
    "# list_im = []\n",
    "# def ReadFolderCluster():\n",
    "#     for index, fileName in enumerate(listdir('cluster')):\n",
    "#         filePath = 'cluster/' + fileName\n",
    "#         list_im.append(filePath)\n",
    "#     return list_im"
   ]
  },
  {
   "cell_type": "markdown",
   "metadata": {},
   "source": [
    "### Test với điểm cố định"
   ]
  },
  {
   "cell_type": "code",
   "execution_count": 46,
   "metadata": {},
   "outputs": [],
   "source": [
    "learnedLabels = ['0', '1', '2', '3', '4', '5', '6', '7', '8', '9']"
   ]
  },
  {
   "cell_type": "code",
   "execution_count": 20,
   "metadata": {},
   "outputs": [
    {
     "name": "stdout",
     "output_type": "stream",
     "text": [
      "8\n"
     ]
    },
    {
     "data": {
      "image/png": "[encoded data removed]",
      "text/plain": [
       "<Figure size 72x72 with 1 Axes>"
      ]
     },
     "metadata": {
      "needs_background": "light"
     },
     "output_type": "display_data"
    }
   ],
   "source": [
    "img = Image.open('Image digits/Trainset/2/image13.jpg')\n",
    "def test(image):\n",
    "    new_image = image.resize((10, 25))\n",
    "    np_img = np.array(new_image)\n",
    "    test = np.array([ReadImage(image)])\n",
    "    predCluster = k_means.predict(test)[0]\n",
    "    \n",
    "    getAllDataInCluster(predCluster)\n",
    "\n",
    "    img = Image.fromarray(np_img, 'RGB')\n",
    "    plt.figure(figsize = (1,1))\n",
    "    plt.imshow(img)\n",
    "test(img)"
   ]
  },
  {
   "cell_type": "markdown",
   "metadata": {},
   "source": [
    "### Test với tập testset"
   ]
  },
  {
   "cell_type": "code",
   "execution_count": 48,
   "metadata": {},
   "outputs": [
    {
     "data": {
      "text/plain": [
       "array([[  0,  17,  26, ...,   0,   6,  10],\n",
       "       [253,   0,   0, ...,   0,  10,   6],\n",
       "       [  9,   1,   0, ...,  62,   1,   0],\n",
       "       ...,\n",
       "       [ 26,   0,   1, ...,   0,   6,   8],\n",
       "       [198,  26,  29, ...,   4,   0,   0],\n",
       "       [  0,   7,   7, ...,  43,   0,   0]], dtype=uint8)"
      ]
     },
     "execution_count": 48,
     "metadata": {},
     "output_type": "execute_result"
    },
    {
     "data": {
      "image/png": "[encoded data removed]",
      "text/plain": [
       "<Figure size 72x72 with 1 Axes>"
      ]
     },
     "metadata": {
      "needs_background": "light"
     },
     "output_type": "display_data"
    },
    {
     "data": {
      "image/png": "[encoded data removed]",
      "text/plain": [
       "<Figure size 72x72 with 1 Axes>"
      ]
     },
     "metadata": {
      "needs_background": "light"
     },
     "output_type": "display_data"
    },
    {
     "data": {
      "image/png": "[encoded data removed]",
      "text/plain": [
       "<Figure size 72x72 with 1 Axes>"
      ]
     },
     "metadata": {
      "needs_background": "light"
     },
     "output_type": "display_data"
    },
    {
     "data": {
      "image/png": "[encoded data removed]",
      "text/plain": [
       "<Figure size 72x72 with 1 Axes>"
      ]
     },
     "metadata": {
      "needs_background": "light"
     },
     "output_type": "display_data"
    },
    {
     "data": {
      "image/png": "[encoded data removed]",
      "text/plain": [
       "<Figure size 72x72 with 1 Axes>"
      ]
     },
     "metadata": {
      "needs_background": "light"
     },
     "output_type": "display_data"
    },
    {
     "data": {
      "image/png": "[encoded data removed]",
      "text/plain": [
       "<Figure size 72x72 with 1 Axes>"
      ]
     },
     "metadata": {
      "needs_background": "light"
     },
     "output_type": "display_data"
    },
    {
     "data": {
      "image/png": "[encoded data removed]",
      "text/plain": [
       "<Figure size 72x72 with 1 Axes>"
      ]
     },
     "metadata": {
      "needs_background": "light"
     },
     "output_type": "display_data"
    },
    {
     "data": {
      "image/png": "[encoded data removed]",
      "text/plain": [
       "<Figure size 72x72 with 1 Axes>"
      ]
     },
     "metadata": {
      "needs_background": "light"
     },
     "output_type": "display_data"
    },
    {
     "data": {
      "image/png": "[encoded data removed]",
      "text/plain": [
       "<Figure size 72x72 with 1 Axes>"
      ]
     },
     "metadata": {
      "needs_background": "light"
     },
     "output_type": "display_data"
    },
    {
     "data": {
      "image/png": "[encoded data removed]",
      "text/plain": [
       "<Figure size 72x72 with 1 Axes>"
      ]
     },
     "metadata": {
      "needs_background": "light"
     },
     "output_type": "display_data"
    },
    {
     "data": {
      "image/png": "[encoded data removed]",
      "text/plain": [
       "<Figure size 72x72 with 1 Axes>"
      ]
     },
     "metadata": {
      "needs_background": "light"
     },
     "output_type": "display_data"
    },
    {
     "data": {
      "image/png": "[encoded data removed]",
      "text/plain": [
       "<Figure size 72x72 with 1 Axes>"
      ]
     },
     "metadata": {
      "needs_background": "light"
     },
     "output_type": "display_data"
    },
    {
     "data": {
      "image/png": "[encoded data removed]",
      "text/plain": [
       "<Figure size 72x72 with 1 Axes>"
      ]
     },
     "metadata": {
      "needs_background": "light"
     },
     "output_type": "display_data"
    },
    {
     "data": {
      "image/png": "[encoded data removed]",
      "text/plain": [
       "<Figure size 72x72 with 1 Axes>"
      ]
     },
     "metadata": {
      "needs_background": "light"
     },
     "output_type": "display_data"
    },
    {
     "data": {
      "image/png": "[encoded data removed]",
      "text/plain": [
       "<Figure size 72x72 with 1 Axes>"
      ]
     },
     "metadata": {
      "needs_background": "light"
     },
     "output_type": "display_data"
    },
    {
     "data": {
      "image/png": "[encoded data removed]",
      "text/plain": [
       "<Figure size 72x72 with 1 Axes>"
      ]
     },
     "metadata": {
      "needs_background": "light"
     },
     "output_type": "display_data"
    },
    {
     "data": {
      "image/png": "[encoded data removed]",
      "text/plain": [
       "<Figure size 72x72 with 1 Axes>"
      ]
     },
     "metadata": {
      "needs_background": "light"
     },
     "output_type": "display_data"
    },
    {
     "data": {
      "image/png": "[encoded data removed]",
      "text/plain": [
       "<Figure size 72x72 with 1 Axes>"
      ]
     },
     "metadata": {
      "needs_background": "light"
     },
     "output_type": "display_data"
    },
    {
     "data": {
      "image/png": "[encoded data removed]",
      "text/plain": [
       "<Figure size 72x72 with 1 Axes>"
      ]
     },
     "metadata": {
      "needs_background": "light"
     },
     "output_type": "display_data"
    },
    {
     "data": {
      "image/png": "[encoded data removed]",
      "text/plain": [
       "<Figure size 72x72 with 1 Axes>"
      ]
     },
     "metadata": {
      "needs_background": "light"
     },
     "output_type": "display_data"
    }
   ],
   "source": [
    "def ReadFolderTestSet():\n",
    "    images = []\n",
    "    for index, fileName in enumerate(listdir('Image digits/TestSet/')):\n",
    "        filePath = 'Image digits/TestSet/' + fileName\n",
    "        img = ReadImage(Image.open(filePath))\n",
    "        images.append(img)\n",
    "        open_img = Image.open('Image digits/TestSet/' + fileName)\n",
    "        new_image = open_img.resize((15, 30))\n",
    "        np_img_img = np.array(new_image)\n",
    "        img = Image.fromarray(np_img_img, 'RGB')\n",
    "        plt.figure(figsize = (1,1))\n",
    "        plt.imshow(img)\n",
    "    images_np = np.array(images)\n",
    "    return images_np\n",
    "ReadFolderTestSet()"
   ]
  },
  {
   "cell_type": "markdown",
   "metadata": {},
   "source": [
    "### Đồ thị biểu diễn dữ liệu phân cụm và chưa phần cụm"
   ]
  },
  {
   "cell_type": "markdown",
   "metadata": {},
   "source": []
  }
 ],
 "metadata": {
  "interpreter": {
   "hash": "7b83eca86422fa8d834f3af5009fe5ca627fd4d3ae8aae8cf5deb28e4f1bf108"
  },
  "kernelspec": {
   "display_name": "Python 3",
   "language": "python",
   "name": "python3"
  },
  "language_info": {
   "codemirror_mode": {
    "name": "ipython",
    "version": 3
   },
   "file_extension": ".py",
   "mimetype": "text/x-python",
   "name": "python",
   "nbconvert_exporter": "python",
   "pygments_lexer": "ipython3",
   "version": "3.8.8"
  }
 },
 "nbformat": 4,
 "nbformat_minor": 2
}
